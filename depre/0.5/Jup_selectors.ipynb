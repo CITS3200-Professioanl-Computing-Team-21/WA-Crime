{
 "cells": [
  {
   "cell_type": "code",
   "execution_count": 1,
   "metadata": {},
   "outputs": [
    {
     "name": "stdout",
     "output_type": "stream",
     "text": [
      "Hello world\n",
      "Goodbye world\n"
     ]
    }
   ],
   "source": [
    "'''p install openpyxl\n",
    "import pandas as pd\n",
    "\n",
    "data = 'D:/UWA/UWA 2021 Sem 2/Professional Computing/Locality Crime Data.xlsx'\n",
    "crimes =pd.read_excel(data)\n",
    "for i in range(0,5):\n",
    "    print(crimes[i])'''\n",
    "\n",
    "print(\"Hello world\")\n",
    "print(\"Goodbye world\")"
   ]
  },
  {
   "cell_type": "code",
   "execution_count": 2,
   "metadata": {},
   "outputs": [],
   "source": [
    "#import folium\n",
    "#m = folium.Map(location=[-31.9535132, 115.85704710000005], zoom_start=12)\n",
    "#m"
   ]
  },
  {
   "cell_type": "code",
   "execution_count": null,
   "metadata": {},
   "outputs": [],
   "source": [
    "Western Australia divisions -> Regions, local government authorities\n",
    "\n",
    "Regions: Kimberly, Pilbara, Gascoyne, Mid-West, Wheatbelt, Peel, South-West, Great-Southern, Goldfields-Esperance, Perth?\n",
    "    \n",
    "    Gascoyne: Carnevon, Exmouth, Shark Bay, Upper-Gascoyne\n",
    "    \n",
    "    Goldfields-Esperance: Coolgardie, Dundas, Esperance, Kalgoorlie-Boulder, Laverton, Leonora, Menzies, Ngaanyatjarraku, Ravensthorpe\n",
    "    \n",
    "    Great-Southern: Albany, Broomehill-Tambellup, Cranvrook, Denmark, Gnowangerup, Jerramungup, Katanning, Kent, Kojonup, Plantafenet, Woodanilling\n",
    "    \n",
    "    Kimberly: Broome, Derby-West Kimberly, Halls-Creek, Wyndham-East-Kimberly\n",
    "    \n",
    "    Mid-West: Carnamah, Chapman-Valley, Coorow, Cue, Greater-Geraldton, Irwin, Meekatharra, Mingenew, Morowa, Mount-Magnet, Murchison, Northampton, Perenjori, Sandstone, Three-Springs, Wiluna, Yalgoo\n",
    "    \n",
    "    Peel: Boddington, Murray, Serpentine-Jarrahdale, Waroona, Mandurah\n",
    "    \n",
    "    Pilbara: Ashburton, East-Pilbara, Port-Hedland, Karratha\n",
    "    \n",
    "    South-West: Bunbury, Busselton, Agusta-Margaret-River, Boyup-Brook, Bridgetown-Greenbushes, Capel, Collie, Dardanup, Donnybrook-Balingup, Harvey, Manjimup, Nannup\n",
    "    \n",
    "    Wheatbelt: Beverly, Brookton, Bruce-Rock, Chittering, Corrigin, Cuballing, Cunderdin, Dalwalinu, Dandaragan, Dowerin, Dumbleyung, Gingin, Goomalling, Kellerberrin, Kondinin, Koorda, Kulin, Lake-Grace, Merredin, Moora, Mt-Marshall, Mukinbudin, Narembeen, Narrogin, Northam, Nungarin, Pingelly, Quairading, Tammin, Toodyay, Trayning, Victoria-Plains, Wagin, Wandering, West-Arthur, Westonia, Wickepin, Williams, Wongan-Ballidu, Wyalkatchem, Yilgarn, York"
   ]
  },
  {
   "cell_type": "code",
   "execution_count": 3,
   "metadata": {
    "tags": []
   },
   "outputs": [],
   "source": [
    "def file_prep(filename):\n",
    "    with open(filename, 'r') as file:\n",
    "        data = list(csv.reader(file, delimiter = ','))\n",
    "    for line in data:\n",
    "        for i in range(0,len(line)):\n",
    "            if line[i] == '':\n",
    "                line[i] = '0'\n",
    "    return data\n",
    "\n",
    "def selectors(data):\n",
    "    places = []\n",
    "    crimes = []\n",
    "    #Jan, Feb, Mar, Apr, May, Jun, Jul, Aug, Sep, Oct, Nov, Dec\n",
    "    months = []\n",
    "    #with months, 2d arrays?\n",
    "    #if add days, 3d arrays?\n",
    "    years = []\n",
    "\n",
    "    #making a list of places\n",
    "    #State: Western Australia \n",
    "    #Region: Metropolitan, Regional\n",
    "    #District: Armadale, Cannington, Fremantle, Joondalup, Mandurah, Midland, District, Mirrabooka,  Perth, Goldfields-Esperance, Great Southern, \n",
    "    #           Kimberley, Mid West-Gascoyne, Pilbara, South West, Wheatbelt\n",
    "    #Surburbs: ???\n",
    "    for line in data:\n",
    "        if line[0] not in places:\n",
    "            places.append(line[0])\n",
    "    \n",
    "    #making a list for the crimes occurred\n",
    "    for line in data:\n",
    "        if line[1] not in crimes:\n",
    "            crimes.append(line[1])\n",
    "    \n",
    "    #making a list of all the dates\n",
    "    for line in data:\n",
    "        if line[2] not in years:\n",
    "            years.append(line[2])\n",
    "    \n",
    "    return places, crimes, years\n",
    "    "
   ]
  },
  {
   "cell_type": "code",
   "execution_count": 4,
   "metadata": {},
   "outputs": [
    {
     "name": "stdout",
     "output_type": "stream",
     "text": [
      "1629\n",
      "['Website Category Names', 'Drug Offences', 'Non-Dwelling Burglary', 'Stealing', 'Stealing of Motor Vehicle', 'Arson', 'Assault (Family)', 'Assault (Non-Family)', 'Breach of Violence Restraint Order', 'Dwelling Burglary', 'Fraud & Related Offences', 'Graffiti', 'Property Damage', 'Sexual Offences', 'Threatening Behaviour (Family)', 'Threatening Behaviour (Non-Family)', 'Deprivation of Liberty', 'Robbery', 'Homicide']\n",
      "['Year', '2015-16', '2011-12', '2010-11', '2020-21', '2012-13', '2013-14', '2014-15', '2017-18', '2018-19', '2019-20', '2016-17']\n"
     ]
    }
   ],
   "source": [
    "import csv\n",
    "import pandas as pd\n",
    "import numpy as np\n",
    "#import scipy as sp\n",
    "#import matplotlib.pyplot as plt\n",
    "#import seaborn as sns\n",
    "'''useful with pandas'''\n",
    "\n",
    "#Data = 'WA-Crime\\Locality Crime Data.xlsx'\n",
    "filename = 'Locality_Data_Filtered (from Quart Website Rep Mar213-2.csv'\n",
    "\n",
    "def main():\n",
    "    data = file_prep(filename)\n",
    "    places, crimes, dates = selectors(data)\n",
    "    print(len(places))\n",
    "    print(crimes)\n",
    "    print(dates)\n",
    "\n",
    "\n",
    "if __name__ == '__main__':\n",
    "    main()"
   ]
  },
  {
   "cell_type": "markdown",
   "metadata": {},
   "source": [
    "#import geoviews as gv\n",
    "#import geoviews.feature as gf\n",
    "import geopandas as gpd\n",
    "#import xarray as xr\n",
    "#from cartopy import crs\n",
    "#import pandas as pd\n",
    "#from shapely.geometry import shape\n",
    "#import numpy as np\n",
    "import pandas as pd\n",
    "#import shapefile as shp\n",
    "import matplotlib.pyplot as plt\n",
    "#import seaborn as sns\n",
    "import json\n",
    "\n",
    "temp_id = []\n",
    "temp_coord = []\n",
    "json_temp = []\n",
    "json_list = []\n",
    "\n",
    "jsonname = 'features.json'\n",
    "\n",
    "with open(jsonname, 'r') as file:\n",
    "    temp_json = json.load(file)\n",
    "for line in temp_json['features']:\n",
    "    if {line['properties']['loc_pid']:line['geometry']['coordinates'][0][0]} not in json_temp:\n",
    "        json_temp.append({line['properties']['loc_pid']:line['geometry']['coordinates'][0][0]})\n",
    "for line in json_temp:\n",
    "    if line not in json_list:\n",
    "        json_list.append(line)\n",
    "\n",
    "for line in temp_json['features']:\n",
    "    if line['properties']['loc_pid'] not in temp_id:\n",
    "        temp_id.append(line['properties']['loc_pid'])\n",
    "for line in temp_json['features']:\n",
    "    if line['geometry']['coordinates'][0][0] not in temp_coord:\n",
    "        temp_coord.append(line['geometry']['coordinates'][0][0])\n",
    "\n",
    "print(temp_json['features'][1]['geometry']['coordinates'][0][0])\n",
    "print(len(temp_json['features']))\n",
    "print(len(temp_id))\n",
    "print(len(temp_coord))"
   ]
  },
  {
   "cell_type": "markdown",
   "metadata": {},
   "source": [
    "import geoviews as gv\n",
    "import geoviews.feature as gf\n",
    "from geoviews import dim\n",
    "import geopandas as gpd\n",
    "#import xarray as xr\n",
    "#from cartopy import crs\n",
    "#from shapely.geometry import shape\n",
    "import numpy as np\n",
    "import pandas as pd\n",
    "import shapefile as shp\n",
    "import matplotlib\n",
    "import matplotlib.pyplot as plt\n",
    "import plotly.express as px\n",
    "#import seaborn as sns\n",
    "import json\n",
    "\n",
    "temp_id = []\n",
    "temp_coord = []\n",
    "json_temp = []\n",
    "json_list = []\n",
    "\n",
    "jsonname = 'features.json'\n",
    "\n",
    "with open(jsonname, 'r') as file:\n",
    "    temp_json = json.load(file)\n",
    "for line in temp_json['features']:\n",
    "    if {line['properties']['loc_pid']:line['geometry']['coordinates'][0][0]} not in json_temp:\n",
    "        json_temp.append({line['properties']['loc_pid']:line['geometry']['coordinates'][0][0]})\n",
    "for line in json_temp:\n",
    "    if line not in json_list:\n",
    "        json_list.append(line)\n",
    "\n",
    "for line in temp_json['features']:\n",
    "    if line['properties']['loc_pid'] not in temp_id:\n",
    "        temp_id.append(line['properties']['loc_pid'])\n",
    "for line in temp_json['features']:\n",
    "    if line['geometry']['coordinates'][0][0] not in temp_coord:\n",
    "        temp_coord.append(line['geometry']['coordinates'][0][0])\n",
    "\n",
    "gdf = gpd.GeoDataFrame.from_features(temp_json[\"features\"])\n",
    "plt1 = gdf.plot()\n",
    "plt2 = gdf.plot(edgecolor='black')\n",
    "plt3 = gdf.plot(color='yellow')\n",
    "plt4 = gdf.plot(color='yellow', edgecolor='black')\n",
    "plt.show()\n",
    "\n",
    "#temp = gpd.read_file(r'C:\\Users\\seanl\\myprojects\\CITS3200\\Geopackage_2016_HIHC_for_WA\\census2016_hihc_wa_short.gpkg')\n",
    "#temp.head()"
   ]
  }
 ],
 "metadata": {
  "interpreter": {
   "hash": "f586bbe6dd3fb921231b20edd45b3a497d092639266e120e968ed8380910f086"
  },
  "kernelspec": {
   "display_name": "Python 3.8.8 64-bit ('base': conda)",
   "name": "python3"
  },
  "language_info": {
   "codemirror_mode": {
    "name": "ipython",
    "version": 3
   },
   "file_extension": ".py",
   "mimetype": "text/x-python",
   "name": "python",
   "nbconvert_exporter": "python",
   "pygments_lexer": "ipython3",
   "version": "3.8.8"
  }
 },
 "nbformat": 4,
 "nbformat_minor": 2
}
